{
  "nbformat": 4,
  "nbformat_minor": 0,
  "metadata": {
    "colab": {
      "provenance": [],
      "mount_file_id": "1GoUui7u7whYYxUsOdONSfrHZxwZhr0Wb",
      "authorship_tag": "ABX9TyMAtLCbp2MFUWT/sSdXIcLb",
      "include_colab_link": true
    },
    "kernelspec": {
      "name": "python3",
      "display_name": "Python 3"
    },
    "language_info": {
      "name": "python"
    }
  },
  "cells": [
    {
      "cell_type": "markdown",
      "metadata": {
        "id": "view-in-github",
        "colab_type": "text"
      },
      "source": [
        "<a href=\"https://colab.research.google.com/github/jkarlos23/cart-prestashop/blob/master/Matriz_cumplimiento.ipynb\" target=\"_parent\"><img src=\"https://colab.research.google.com/assets/colab-badge.svg\" alt=\"Open In Colab\"/></a>"
      ]
    },
    {
      "cell_type": "code",
      "execution_count": 1,
      "metadata": {
        "colab": {
          "base_uri": "https://localhost:8080/"
        },
        "id": "jDYcFmW8F6WK",
        "outputId": "b2ab49db-5c98-4693-9670-b966c38b3340"
      },
      "outputs": [
        {
          "output_type": "stream",
          "name": "stdout",
          "text": [
            "Requirement already satisfied: pandas in /usr/local/lib/python3.10/dist-packages (2.2.2)\n",
            "Requirement already satisfied: openpyxl in /usr/local/lib/python3.10/dist-packages (3.1.5)\n",
            "Requirement already satisfied: numpy>=1.22.4 in /usr/local/lib/python3.10/dist-packages (from pandas) (1.26.4)\n",
            "Requirement already satisfied: python-dateutil>=2.8.2 in /usr/local/lib/python3.10/dist-packages (from pandas) (2.8.2)\n",
            "Requirement already satisfied: pytz>=2020.1 in /usr/local/lib/python3.10/dist-packages (from pandas) (2024.2)\n",
            "Requirement already satisfied: tzdata>=2022.7 in /usr/local/lib/python3.10/dist-packages (from pandas) (2024.2)\n",
            "Requirement already satisfied: et-xmlfile in /usr/local/lib/python3.10/dist-packages (from openpyxl) (2.0.0)\n",
            "Requirement already satisfied: six>=1.5 in /usr/local/lib/python3.10/dist-packages (from python-dateutil>=2.8.2->pandas) (1.16.0)\n"
          ]
        }
      ],
      "source": [
        "pip install pandas openpyxl"
      ]
    },
    {
      "cell_type": "code",
      "source": [
        "import os\n",
        "import pandas as pd\n",
        "\n",
        "# Ruta a la carpeta en Google Drive donde están los archivos Excel\n",
        "folder_path = '/content/drive/MyDrive/Indecopi/CATI Peru/Matriz de Actividades /2024/2024-I'\n",
        "output_file = '/content/drive/MyDrive/Indecopi/CATI Peru/Matriz de Actividades /2024/2024-I/archivo_consolidado.xlsx'  # Ruta del archivo de salida\n",
        "\n",
        "# Crear un DataFrame vacío para consolidar los datos\n",
        "consolidated_data = pd.DataFrame()\n",
        "\n",
        "# Iterar por cada archivo en la carpeta\n",
        "for file_name in os.listdir(folder_path):\n",
        "    if file_name.endswith(\".xlsx\"):  # Asegurarse de procesar solo archivos Excel\n",
        "        file_path = os.path.join(folder_path, file_name)\n",
        "\n",
        "        # Leer el archivo Excel y obtener el rango G12:G36\n",
        "        df = pd.read_excel(file_path, usecols=\"G\", skiprows=10, nrows=25, header=None)\n",
        "\n",
        "        # Agregar la columna al DataFrame consolidado como una nueva columna\n",
        "        consolidated_data[file_name] = df.iloc[:, 0]\n",
        "\n",
        "# Guardar la tabla consolidada en un nuevo archivo Excel\n",
        "consolidated_data.to_excel(output_file, index=False)\n",
        "\n",
        "print(f\"Archivo consolidado guardado en: {output_file}\")"
      ],
      "metadata": {
        "colab": {
          "base_uri": "https://localhost:8080/"
        },
        "id": "vn4bR1epHO2c",
        "outputId": "7f530877-01bd-43d0-dc93-b87f6e8fc514"
      },
      "execution_count": 8,
      "outputs": [
        {
          "output_type": "stream",
          "name": "stdout",
          "text": [
            "Archivo consolidado guardado en: /content/drive/MyDrive/Indecopi/CATI Peru/Matriz de Actividades /2024/2024-I/archivo_consolidado.xlsx\n"
          ]
        }
      ]
    },
    {
      "cell_type": "code",
      "source": [
        "from google.colab import drive\n",
        "drive.mount('/content/drive')"
      ],
      "metadata": {
        "id": "QRnb8tzlr8Hf"
      },
      "execution_count": null,
      "outputs": []
    }
  ]
}